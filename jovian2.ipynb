{
 "cells": [
  {
   "cell_type": "markdown",
   "id": "9b1c8b00",
   "metadata": {},
   "source": [
    "**Jovian Assignment for Emi_calculation**"
   ]
  },
  {
   "cell_type": "markdown",
   "id": "c2910aeb",
   "metadata": {},
   "source": [
    "*The below code is used to calculate Equated Monthly Installments (EMIs) for loans based on loan information provided in text files. The code retrieves text files from URLs, reads their contents, calculates the EMIs using the loan information, and writes the calculated EMIs to new text file and automatically save it in local drive.*"
   ]
  },
  {
   "cell_type": "markdown",
   "id": "3e8d9109",
   "metadata": {},
   "source": [
    "**Import Required Libraries:**"
   ]
  },
  {
   "cell_type": "code",
   "execution_count": 1,
   "id": "bedd2f92",
   "metadata": {},
   "outputs": [],
   "source": [
    "#code to impor necessary modules for file operations\n",
    "import os\n",
    "from math import ceil\n",
    "from urllib.request import urlretrieve"
   ]
  },
  {
   "cell_type": "code",
   "execution_count": 2,
   "id": "d3e71508",
   "metadata": {},
   "outputs": [],
   "source": [
    "url1 = 'https://gist.githubusercontent.com/aakashns/257f6e6c8719c17d0e498ea287d1a386/raw/7def9ef4234ddf0bc82f855ad67dac8b971852ef/loans1.txt'\n",
    "url2 = 'https://gist.githubusercontent.com/aakashns/257f6e6c8719c17d0e498ea287d1a386/raw/7def9ef4234ddf0bc82f855ad67dac8b971852ef/loans2.txt'\n",
    "url3 = 'https://gist.githubusercontent.com/aakashns/257f6e6c8719c17d0e498ea287d1a386/raw/7def9ef4234ddf0bc82f855ad67dac8b971852ef/loans3.txt'"
   ]
  },
  {
   "cell_type": "markdown",
   "id": "26df6276",
   "metadata": {},
   "source": [
    "*Below lines of code use the **urlretrieve** function from the **urllib.request** module to download files from the URLs and and save them.*"
   ]
  },
  {
   "cell_type": "code",
   "execution_count": 3,
   "id": "a760c5d2",
   "metadata": {},
   "outputs": [
    {
     "data": {
      "text/plain": [
       "('loan6.txt', <http.client.HTTPMessage at 0x20975d90650>)"
      ]
     },
     "execution_count": 3,
     "metadata": {},
     "output_type": "execute_result"
    }
   ],
   "source": [
    "urlretrieve(url1,'loan4.txt')\n",
    "urlretrieve(url2,'loan5.txt')\n",
    "urlretrieve(url3,'loan6.txt')"
   ]
  },
  {
   "cell_type": "markdown",
   "id": "b144e119",
   "metadata": {},
   "source": [
    "**Perform Calculations and Write Results to Files:**"
   ]
  },
  {
   "cell_type": "code",
   "execution_count": 4,
   "id": "1d319bc0",
   "metadata": {},
   "outputs": [],
   "source": [
    "# m will be used to store the loan details as key-value pairs in the dictionary m. extracted from the text files.\n",
    "\n",
    "m={}\n",
    "\n",
    "for i in range(1,4):\n",
    "    \n",
    "#Read and write operations are performed for each value of i in the range,\n",
    "# and the file paths are constructed using string formatting and thus help us to perform the operation with 'n' \n",
    "    # of files simply by saving in the format as 'loan{i}.txt in the specific path'\n",
    "    \n",
    "    with open(f'C:/Users/User/jpbook/.newfolder/emis{i}.txt', 'w') as f:\n",
    "        with open(f'C:/Users/User/jpbook/.newfolder/loan{i}.txt', 'r+') as file:\n",
    "        \n",
    "        #Extracting the header line (first line) from the loan input file  and write it\n",
    "        #with an additional 'emi' column to the output file f:\n",
    "            \n",
    "            file_line = file.readlines()\n",
    "            a= (file_line[0].strip().split(','))\n",
    "            f.write(file_line[0].strip()+',emi'+ '\\n')\n",
    "        #Loops through the remaining lines (loan data) in the loan input file, skipping the header line.\n",
    "            for k in range(1,len(file_line)):\n",
    "                r= ((file_line[k]).strip().split(','))\n",
    "            \n",
    "            for l in range(0,len(a)):\n",
    "                    m[a[l]] = float((r[l]) if r[l] != \"\" else 0)\n",
    "                    \n",
    "                # EMI calculation using the formula as below:\n",
    "                try:\n",
    "                    #emi = loan_amount * rate * ((1 + rate) ** duration) / (((1 + rate) ** duration) - 1)\n",
    "                    emi = ((m.get('amount')-m.get('down_payment')) * (m.get('rate')/12) * ((1+m.get('rate')/12)**(m.get('duration'))))/ ((((1+(m.get('rate')/12))**m.get('duration'))-1))\n",
    "                    \n",
    "                # It also handles the case of ZeroDivisionError, which may occur if the rate of interest of the loan is 0.     \n",
    "                \n",
    "                except ZeroDivisionError:\n",
    "                    emi = (m.get('amount')-(m.get('down_payment')))/m.get('duration')\n",
    "            \n",
    "                emi = ceil(emi)\n",
    "                \n",
    "                ##The calculated EMI is then stored in the variable emi for further processing, such as writing to the output file.\n",
    "                \n",
    "                write_content =(f'''{m.get('amount')},{m.get('duration')},{m.get('rate')},{m.get('down_payment')},{emi}''')\n",
    "                f.write(str(write_content) + '\\n')\n"
   ]
  },
  {
   "cell_type": "markdown",
   "id": "3b5e7880",
   "metadata": {},
   "source": [
    "***Thank you ... jovian.com***"
   ]
  },
  {
   "cell_type": "code",
   "execution_count": null,
   "id": "728ba8f4",
   "metadata": {},
   "outputs": [],
   "source": []
  }
 ],
 "metadata": {
  "kernelspec": {
   "display_name": "Python 3 (ipykernel)",
   "language": "python",
   "name": "python3"
  },
  "language_info": {
   "codemirror_mode": {
    "name": "ipython",
    "version": 3
   },
   "file_extension": ".py",
   "mimetype": "text/x-python",
   "name": "python",
   "nbconvert_exporter": "python",
   "pygments_lexer": "ipython3",
   "version": "3.11.2"
  }
 },
 "nbformat": 4,
 "nbformat_minor": 5
}
